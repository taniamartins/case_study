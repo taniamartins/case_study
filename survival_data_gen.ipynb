{
 "cells": [
  {
   "cell_type": "code",
   "execution_count": null,
   "id": "c548c4dc",
   "metadata": {},
   "outputs": [],
   "source": [
    "import pandas as pd\n",
    "import numpy as np"
   ]
  },
  {
   "cell_type": "code",
   "execution_count": null,
   "id": "a38ed157",
   "metadata": {},
   "outputs": [],
   "source": [
    "np.random.seed(153)\n",
    "\n",
    "n = 5000\n",
    "\n",
    "sectors = ['Consumer Goods', 'Technology & Communications', 'Financials', 'Health Care', 'Transportation', 'Services', 'Infrastructure', 'Resource Transformation']\n",
    "purposes = ['Working Capital', 'Equipment', 'Expansion', 'Product Development']\n",
    "locations = [\"London\", \"Manchester\", \"Birmingham\", \"Leeds\", \"Glasgow\"]"
   ]
  },
  {
   "cell_type": "code",
   "execution_count": null,
   "id": "5b2824c0",
   "metadata": {},
   "outputs": [],
   "source": [
    "df = pd.DataFrame({\n",
    "    \"sector\": np.random.choice(sectors, n),\n",
    "    \"location\": np.random.choice(locations, n),\n",
    "    \"years_operating\": np.random.randint(0, 20, size=n),\n",
    "    \"num_employees\": np.random.poisson(15, size=n).clip(min=1),\n",
    "    \"annual_revenue\": np.random.lognormal(mean=12, sigma=0.5, size=n),\n",
    "    \"profit_margin\": np.round(np.random.normal(loc=5, scale=10, size=n), 1),\n",
    "    \"late_payments\": np.random.poisson(1.5, size=n).clip(0, 10),\n",
    "    \"credit_score\": np.clip(np.random.normal(loc=600, scale=100, size=n), 300, 1000).astype(int),\n",
    "    \"existing_debt\": np.clip(np.random.normal(loc=80000, scale=50000, size=n), 0, None),\n",
    "    \"purpose\": np.random.choice(purposes, size=n),\n",
    "    \"productivity_gain\": np.clip(np.round(np.random.normal(loc=10, scale=10, size=n), 1), 0, None),\n",
    "    \"dnb_risk_score\": np.random.randint(1, 100, size=n),\n",
    "    \"loan_amount\": np.clip(np.random.normal(loc=50000, scale=20000, size=n), 5000, None),\n",
    "    \"term_months\": np.random.choice([12, 18, 24, 36, 48, 60], size=n, p=[0.1, 0.2, 0.3, 0.2, 0.1, 0.1]),\n",
    "    \"current_ratio\": np.random.uniform(0.5, 3.0, size=n),\n",
    "    \"debt_to_equity\": np.random.uniform(0.1, 3.0, size=n)\n",
    "})"
   ]
  },
  {
   "cell_type": "code",
   "execution_count": null,
   "id": "197deb90",
   "metadata": {},
   "outputs": [],
   "source": [
    "df[\"loan_to_revenue_ratio\"] = df[\"loan_amount\"] / df[\"annual_revenue\"]\n",
    "df[\"monthly_payment\"] = df[\"loan_amount\"] / df[\"term_months\"]\n",
    "\n",
    "df[\"loan_to_revenue_ratio\"] = df[\"loan_to_revenue_ratio\"].clip(0.01, 2.0)"
   ]
  },
  {
   "cell_type": "code",
   "execution_count": null,
   "id": "b1b1a013",
   "metadata": {},
   "outputs": [],
   "source": [
    "# duration: observed time in months (exponential decay)\n",
    "df[\"duration\"] = np.random.exponential(scale=36, size=n).astype(int)\n",
    "\n",
    "# event: whether failure (1) or still active (0), based on features\n",
    "def simulate_failure(row):\n",
    "    score = 0\n",
    "    score += 1 if row[\"current_ratio\"] < 1.0 else 0\n",
    "    score += 1 if row[\"debt_to_equity\"] > 2.0 else 0\n",
    "    score += 1 if row[\"dnb_risk_score\"] < 30 else 0\n",
    "    score += 1 if row[\"loan_to_revenue_ratio\"] > 0.75 else 0\n",
    "    score += 1 if row[\"late_payments\"] > 2 else 0\n",
    "    score += 1 if row[\"credit_score\"] < 500 else 0\n",
    "    score += 1 if (row[\"term_months\"] > 36 and row[\"dnb_risk_score\"] < 40) else 0\n",
    "    score += 2 if row[\"sector\"] in {\"Services\", \"Consumer Goods\"} else 0\n",
    "    score += 2 if row[\"location\"] in {\"Glasgow\", \"Leeds\"} else 0\n",
    "\n",
    "    prob = min(0.1 + 0.1 * score, 0.95)\n",
    "    return np.random.binomial(1, prob)\n",
    "\n",
    "df[\"event\"] = df.apply(simulate_failure, axis=1)"
   ]
  },
  {
   "cell_type": "code",
   "execution_count": null,
   "id": "12a57bff",
   "metadata": {},
   "outputs": [],
   "source": [
    "# Time scale in months\n",
    "def simulate_company_lifetime(row):\n",
    "    lifetime = 0\n",
    "    lifetime += 6 if row[\"sector\"] in {\"Technology & Communications\", \"Financials\"} else 0 \n",
    "    lifetime += 4 if row[\"num_employees\"] > 10 else 0 \n",
    "    lifetime += 2 if row[\"location\"] == \"London\" else 0\n",
    "\n",
    "    return int(np.random.exponential(scale=lifetime if lifetime > 0 else 1))  # Avoid scale=0\n",
    "\n",
    "df[\"lifetime\"] = df.apply(simulate_company_lifetime, axis=1) > df[\"duration\"]"
   ]
  },
  {
   "cell_type": "code",
   "execution_count": null,
   "id": "b3c89d93",
   "metadata": {},
   "outputs": [],
   "source": [
    "df_survival = df.copy()\n",
    "df_survival.to_csv(\"data/survival_dataset.csv\", index=False)\n",
    "\n",
    "print(\"Saved survival dataset to: data/survival_dataset.csv\")"
   ]
  }
 ],
 "metadata": {
  "kernelspec": {
   "display_name": ".venv",
   "language": "python",
   "name": "python3"
  },
  "language_info": {
   "codemirror_mode": {
    "name": "ipython",
    "version": 3
   },
   "file_extension": ".py",
   "mimetype": "text/x-python",
   "name": "python",
   "nbconvert_exporter": "python",
   "pygments_lexer": "ipython3",
   "version": "3.12.8"
  }
 },
 "nbformat": 4,
 "nbformat_minor": 5
}
